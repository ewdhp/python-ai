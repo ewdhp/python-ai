{
 "cells": [
  {
   "cell_type": "code",
   "execution_count": 2,
   "metadata": {},
   "outputs": [
    {
     "name": "stdout",
     "output_type": "stream",
     "text": [
      "Final parameters: theta_0 = 0.9999997204809956, theta_1 = 1.000000095070548\n",
      "Final cost: 6.524408713605731e-15\n"
     ]
    }
   ],
   "source": [
    "import numpy as np\n",
    "\n",
    "# Dataset\n",
    "x = np.array([1, 2, 3, 4])\n",
    "y = np.array([2, 3, 4, 5])\n",
    "\n",
    "# Number of training examples\n",
    "m = len(x)\n",
    "\n",
    "# Parameters\n",
    "theta_0 = 0\n",
    "theta_1 = 1\n",
    "\n",
    "def compute_cost(x, y, theta_0, theta_1):\n",
    "    m = len(x)\n",
    "    total_cost = 0\n",
    "    for i in range(m):\n",
    "        prediction = theta_0 + theta_1 * x[i]\n",
    "        total_cost += (prediction - y[i]) ** 2\n",
    "    return total_cost / (2 * m)\n",
    "\n",
    "def gradient_descent(x, y, theta_0, theta_1, alpha, iterations):\n",
    "    m = len(x)\n",
    "    for _ in range(iterations):\n",
    "        sum_errors_0 = 0\n",
    "        sum_errors_1 = 0\n",
    "        for i in range(m):\n",
    "            prediction = theta_0 + theta_1 * x[i]\n",
    "            error = prediction - y[i]\n",
    "            sum_errors_0 += error\n",
    "            sum_errors_1 += error * x[i]\n",
    "        \n",
    "        theta_0 -= (alpha / m) * sum_errors_0\n",
    "        theta_1 -= (alpha / m) * sum_errors_1\n",
    "    \n",
    "    return theta_0, theta_1\n",
    "\n",
    "# Hyperparameters\n",
    "alpha = 0.01\n",
    "iterations = 10000\n",
    "\n",
    "theta_0, theta_1 = gradient_descent(x, y, theta_0, theta_1, alpha, iterations)\n",
    "\n",
    "print(f\"Final parameters: theta_0 = {theta_0}, theta_1 = {theta_1}\")\n",
    "cost = compute_cost(x, y, theta_0, theta_1)\n",
    "print(f\"Final cost: {cost}\")\n",
    "\n",
    "# Predict\n"
   ]
  }
 ],
 "metadata": {
  "kernelspec": {
   "display_name": ".venv",
   "language": "python",
   "name": "python3"
  },
  "language_info": {
   "codemirror_mode": {
    "name": "ipython",
    "version": 3
   },
   "file_extension": ".py",
   "mimetype": "text/x-python",
   "name": "python",
   "nbconvert_exporter": "python",
   "pygments_lexer": "ipython3",
   "version": "3.9.1"
  },
  "polyglot_notebook": {
   "kernelInfo": {
    "defaultKernelName": "csharp",
    "items": [
     {
      "aliases": [],
      "languageName": "csharp",
      "name": "csharp"
     }
    ]
   }
  }
 },
 "nbformat": 4,
 "nbformat_minor": 2
}
